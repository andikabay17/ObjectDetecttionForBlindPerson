{
 "cells": [
  {
   "cell_type": "markdown",
   "metadata": {},
   "source": [
    "# Faster R-CNN Inferencing using OpenCV DNN"
   ]
  },
  {
   "cell_type": "code",
   "execution_count": null,
   "metadata": {},
   "outputs": [],
   "source": []
  },
  {
   "cell_type": "code",
   "execution_count": 1,
   "metadata": {},
   "outputs": [
    {
     "data": {
      "text/plain": [
       "'4.5.1'"
      ]
     },
     "execution_count": 1,
     "metadata": {},
     "output_type": "execute_result"
    }
   ],
   "source": [
    "import os\n",
    "import json\n",
    "import cv2\n",
    "import numpy as np\n",
    "import matplotlib.pyplot as plt\n",
    "\n",
    "cv2.__version__"
   ]
  },
  {
   "cell_type": "code",
   "execution_count": 2,
   "metadata": {},
   "outputs": [],
   "source": [
    "from utils_baru import Utils\n",
    "\n",
    "utils = Utils()"
   ]
  },
  {
   "cell_type": "code",
   "execution_count": 3,
   "metadata": {},
   "outputs": [
    {
     "name": "stdout",
     "output_type": "stream",
     "text": [
      "number of class : 4\n"
     ]
    },
    {
     "data": {
      "text/plain": [
       "{'0': 'Tembok', '1': 'Pintu', '2': 'Meja', '3': 'Kursi'}"
      ]
     },
     "execution_count": 3,
     "metadata": {},
     "output_type": "execute_result"
    }
   ],
   "source": [
    "# load label class coco dataset\n",
    "\n",
    "classesFile = \"bisa.json\"\n",
    "with open(classesFile) as json_labels:\n",
    "    classes = json.load(json_labels)\n",
    " \n",
    "print(\"number of class :\", len(classes))\n",
    "classes"
   ]
  },
  {
   "cell_type": "code",
   "execution_count": 4,
   "metadata": {},
   "outputs": [],
   "source": [
    "# load petrained model (.pb & .pbtxt) faster R-CNN with backbone Resnet 50 on COCO dataset\n",
    "\n",
    "net = cv2.dnn.readNetFromTensorflow(\"model/inference_graph_140k/frozen_inference_graph.pb\", \n",
    "                                    \"model/inference_graph_140k/opencv_dnn_140k.pbtxt\")\n",
    "#net = cv2.dnn.readNetFromTensorflow(\"model/inference_graph_100k/frozen_inference_graph.pb\",\"0\")\n",
    "#cv2.dnn.writeTextGraph('model/frozen_inference_graph.pb', 'model/faster_rcnn_inception_v2_custom_dataset.pbtxt')"
   ]
  },
  {
   "cell_type": "code",
   "execution_count": 5,
   "metadata": {},
   "outputs": [],
   "source": [
    "# set CUDA as backend & target OpenCV DNN\n",
    "\n",
    "net.setPreferableBackend(cv2.dnn.DNN_BACKEND_CUDA)\n",
    "net.setPreferableTarget(cv2.dnn.DNN_TARGET_CUDA)"
   ]
  },
  {
   "cell_type": "code",
   "execution_count": 6,
   "metadata": {},
   "outputs": [],
   "source": [
    "# # get output layers\n",
    "# layerOutput = net.getUnconnectedOutLayersNames()\n",
    "# print(layerOutput)"
   ]
  },
  {
   "cell_type": "code",
   "execution_count": 7,
   "metadata": {},
   "outputs": [],
   "source": [
    "dataset_folder = \"test_img/\"\n",
    "target_w = 750\n",
    "target_h = 750\n",
    "names = []\n",
    "images = []\n",
    "out = []\n",
    "for folder in os.listdir(dataset_folder):\n",
    "    for name in os.listdir(os.path.join(dataset_folder, folder))[:100]: # limit only 70 face per class\n",
    "        if name.find(\".jpg\") > -1 :\n",
    "            layerOutput = net.getUnconnectedOutLayersNames()\n",
    "            img = cv2.imread(os.path.join(dataset_folder + folder, name))\n",
    "            img = cv2.resize(img, (target_w,target_h))\n",
    "            blob = cv2.dnn.blobFromImage(img, 1 , (target_w, target_h),swapRB=True, crop=False)\n",
    "            net.setInput(blob)\n",
    "            output = net.forward(layerOutput)\n",
    "            images.append(img)\n",
    "            out.append(output)\n",
    "           # names.append(folder)"
   ]
  },
  {
   "cell_type": "code",
   "execution_count": 20,
   "metadata": {},
   "outputs": [
    {
     "name": "stderr",
     "output_type": "stream",
     "text": [
      "A subdirectory or file hasil_deteksi_video_1 already exists.\n"
     ]
    }
   ],
   "source": [
    "mkdir hasil_deteksi_video_1\n"
   ]
  },
  {
   "cell_type": "code",
   "execution_count": 8,
   "metadata": {},
   "outputs": [
    {
     "name": "stdout",
     "output_type": "stream",
     "text": [
      "Pintu (93.03 %)\n",
      "Kursi (78.17 %)\n",
      "Kursi (78.60 %)\n",
      "Kursi (74.85 %)\n",
      "Kursi (77.93 %)\n",
      "Pintu (78.70 %)\n",
      "Pintu (80.14 %)\n",
      "Pintu (78.05 %)\n",
      "Pintu (76.84 %)\n",
      "Pintu (95.28 %)\n",
      "Pintu (77.72 %)\n",
      "Pintu (94.06 %)\n",
      "Pintu (77.32 %)\n",
      "Kursi (75.95 %)\n",
      "Kursi (78.21 %)\n",
      "Kursi (76.61 %)\n",
      "Kursi (81.39 %)\n",
      "Kursi (82.78 %)\n",
      "Kursi (85.45 %)\n",
      "Kursi (86.98 %)\n",
      "Kursi (86.80 %)\n",
      "Pintu (98.55 %)\n",
      "Pintu (92.07 %)\n",
      "Kursi (84.78 %)\n",
      "Kursi (86.02 %)\n",
      "Kursi (86.65 %)\n",
      "Kursi (83.44 %)\n",
      "Kursi (84.07 %)\n",
      "Kursi (82.94 %)\n",
      "Kursi (83.22 %)\n",
      "Kursi (84.07 %)\n",
      "Kursi (83.64 %)\n",
      "Kursi (83.47 %)\n",
      "Pintu (92.38 %)\n",
      "Pintu (98.59 %)\n",
      "Kursi (88.01 %)\n",
      "Kursi (88.09 %)\n",
      "Kursi (85.29 %)\n",
      "Kursi (83.30 %)\n",
      "Kursi (84.89 %)\n",
      "Kursi (85.07 %)\n",
      "Kursi (83.52 %)\n",
      "Kursi (82.98 %)\n",
      "Kursi (82.52 %)\n",
      "Pintu (92.84 %)\n",
      "Kursi (78.48 %)\n",
      "Pintu (95.36 %)\n",
      "Kursi (73.14 %)\n",
      "Kursi (71.80 %)\n",
      "Pintu (75.84 %)\n",
      "Pintu (76.37 %)\n",
      "Pintu (92.34 %)\n",
      "Pintu (77.09 %)\n",
      "Pintu (75.86 %)\n",
      "Pintu (98.54 %)\n",
      "Pintu (72.67 %)\n",
      "Pintu (73.41 %)\n",
      "Pintu (83.32 %)\n",
      "Pintu (84.96 %)\n",
      "Pintu (85.36 %)\n",
      "Pintu (84.64 %)\n",
      "Pintu (86.74 %)\n",
      "Pintu (99.00 %)\n",
      "Pintu (86.48 %)\n",
      "Pintu (85.76 %)\n",
      "Pintu (89.08 %)\n",
      "Pintu (93.27 %)\n",
      "Pintu (89.12 %)\n",
      "Pintu (89.99 %)\n",
      "Pintu (89.86 %)\n",
      "Pintu (90.28 %)\n",
      "Pintu (90.97 %)\n",
      "Pintu (92.12 %)\n",
      "Pintu (95.70 %)\n",
      "Pintu (92.43 %)\n",
      "Pintu (94.28 %)\n",
      "Pintu (93.92 %)\n",
      "Pintu (94.49 %)\n",
      "Pintu (95.94 %)\n",
      "Pintu (95.87 %)\n",
      "Pintu (95.75 %)\n",
      "Pintu (95.60 %)\n",
      "Pintu (95.35 %)\n",
      "Pintu (94.84 %)\n",
      "Pintu (94.80 %)\n",
      "Pintu (94.74 %)\n",
      "Pintu (91.67 %)\n",
      "Pintu (97.72 %)\n",
      "Pintu (94.48 %)\n",
      "Pintu (91.60 %)\n",
      "Pintu (97.57 %)\n",
      "Pintu (91.13 %)\n",
      "Pintu (91.40 %)\n",
      "Pintu (88.73 %)\n",
      "Pintu (88.97 %)\n",
      "Pintu (89.37 %)\n"
     ]
    },
    {
     "data": {
      "image/png": "[encoded data removed]",
      "text/plain": [
       "<Figure size 432x288 with 1 Axes>"
      ]
     },
     "metadata": {
      "needs_background": "light"
     },
     "output_type": "display_data"
    }
   ],
   "source": [
    "i = 0\n",
    "n = 1\n",
    "for gambar in images:\n",
    "    img = utils.postprocess(out[i], gambar , classes, font_size=0.8, confThreshold=70)\n",
    "    #print(img.shape[:2])\n",
    "    #IMAGE_SIZE = (8, 17)\n",
    "    # show image\n",
    "    #plt.figure(figsize = (8,17))\n",
    "    plt.imshow(img[:,:,::-1])\n",
    "    plt.savefig('hasil_deteksi_video_1/video_test%s.jpg'%(n))\n",
    "    i=i+1\n",
    "    n=n+1"
   ]
  },
  {
   "cell_type": "code",
   "execution_count": null,
   "metadata": {},
   "outputs": [],
   "source": []
  },
  {
   "cell_type": "markdown",
   "metadata": {},
   "source": [
    "# Inferencing using Video Stream\n",
    "\n",
    "- Run script `faster_r-cnn_flask.py` in terminal,\n",
    "```\n",
    "python3 faster_r-cnn_flask.py\n",
    "```"
   ]
  },
  {
   "cell_type": "code",
   "execution_count": null,
   "metadata": {},
   "outputs": [],
   "source": []
  },
  {
   "cell_type": "code",
   "execution_count": null,
   "metadata": {},
   "outputs": [],
   "source": []
  },
  {
   "cell_type": "code",
   "execution_count": null,
   "metadata": {},
   "outputs": [],
   "source": []
  }
 ],
 "metadata": {
  "kernelspec": {
   "display_name": "Python 3",
   "language": "python",
   "name": "python3"
  },
  "language_info": {
   "codemirror_mode": {
    "name": "ipython",
    "version": 3
   },
   "file_extension": ".py",
   "mimetype": "text/x-python",
   "name": "python",
   "nbconvert_exporter": "python",
   "pygments_lexer": "ipython3",
   "version": "3.8.0"
  }
 },
 "nbformat": 4,
 "nbformat_minor": 4
}
